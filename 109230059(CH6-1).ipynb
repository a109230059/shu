{
 "cells": [
  {
   "cell_type": "code",
   "execution_count": 7,
   "metadata": {},
   "outputs": [
    {
     "name": "stdout",
     "output_type": "stream",
     "text": [
      "請輸入n55\n",
      "1 / 3 = 0.3333333333333333\n",
      "3 / 5 = 0.9333333333333333\n",
      "5 / 7 = 1.6476190476190475\n",
      "7 / 9 = 2.425396825396825\n",
      "9 / 11 = 3.2435786435786436\n",
      "11 / 13 = 4.08973248973249\n",
      "13 / 15 = 4.956399156399156\n",
      "15 / 17 = 5.838752097575627\n",
      "17 / 19 = 6.73348893968089\n",
      "19 / 21 = 7.638250844442795\n",
      "21 / 23 = 8.551294322703665\n",
      "23 / 25 = 9.471294322703665\n",
      "25 / 27 = 10.39722024862959\n",
      "27 / 29 = 11.328254731388212\n",
      "29 / 31 = 12.263738602355954\n",
      "31 / 33 = 13.203132541749893\n",
      "33 / 35 = 14.145989684607036\n",
      "35 / 37 = 15.091935630552982\n",
      "37 / 39 = 16.04065357927093\n",
      "39 / 41 = 16.991873091466054\n",
      "41 / 43 = 17.945361463559077\n",
      "43 / 45 = 18.900917019114633\n",
      "45 / 47 = 19.858363827625272\n",
      "47 / 49 = 20.81754750109466\n",
      "49 / 51 = 21.77833181482015\n",
      "51 / 53 = 22.740595965763546\n",
      "53 / 55 = 23.70423232939991\n",
      "1+1/2+1/3+...+1/n= 23.70423232939991\n"
     ]
    }
   ],
   "source": [
    "n=eval(input('請輸入n'))\n",
    "total=0\n",
    "for k in range(1,n, 2):\n",
    "    total+=k/(k+2)\n",
    "    print(k, '/', (k+2),'=', total)\n",
    "print('1+1/2+1/3+...+1/n=',total)"
   ]
  },
  {
   "cell_type": "code",
   "execution_count": 1,
   "metadata": {},
   "outputs": [
    {
     "name": "stdout",
     "output_type": "stream",
     "text": [
      "請輸入有幾位員工5\n",
      "請輸入銷售金額5000\n",
      "6100.0\n"
     ]
    }
   ],
   "source": [
    "k=eval(input('請輸入有幾位員工'))\n",
    "money=eval(input('請輸入銷售金額'))\n",
    "m=money\n",
    "if m<=5000:\n",
    "    print((m*0.1)/k+6000)\n",
    "elif m<=10000:\n",
    "    print((m*0.12)/k+6000)\n",
    "elif m<=15000:\n",
    "    print((m*0.14)/k+6000)\n",
    "elif m>=15000:\n",
    "    print((m*0.16)/k+6000)"
   ]
  },
  {
   "cell_type": "code",
   "execution_count": 3,
   "metadata": {},
   "outputs": [
    {
     "name": "stdout",
     "output_type": "stream",
     "text": [
      "請輸入n5\n",
      "1.0\n",
      "1.5\n",
      "1.8333333333333333\n",
      "2.083333333333333\n",
      "1+1/2+1/3+...+1/n= 2.083333333333333\n"
     ]
    }
   ],
   "source": [
    "n=eval(input('請輸入n'))\n",
    "total=0\n",
    "for k in range(1,n):\n",
    "    total+=1/k\n",
    "    print(total)\n",
    "print('1+1/2+1/3+...+1/n=',total)"
   ]
  },
  {
   "cell_type": "code",
   "execution_count": 1,
   "metadata": {},
   "outputs": [
    {
     "name": "stdout",
     "output_type": "stream",
     "text": [
      "the number is 7099.1602209792\n",
      "total is,total\n"
     ]
    }
   ],
   "source": [
    "total=52800\n",
    "number=0\n",
    "while True:\n",
    "    number+=total*0.02\n",
    "    total+=number\n",
    "    if total>=70000:\n",
    "        break\n",
    "print('the number is',number)\n",
    "print('total is,total')"
   ]
  },
  {
   "cell_type": "code",
   "execution_count": null,
   "metadata": {},
   "outputs": [],
   "source": []
  },
  {
   "cell_type": "code",
   "execution_count": null,
   "metadata": {},
   "outputs": [],
   "source": []
  },
  {
   "cell_type": "code",
   "execution_count": null,
   "metadata": {},
   "outputs": [],
   "source": []
  },
  {
   "cell_type": "code",
   "execution_count": null,
   "metadata": {},
   "outputs": [],
   "source": []
  },
  {
   "cell_type": "code",
   "execution_count": null,
   "metadata": {},
   "outputs": [],
   "source": []
  }
 ],
 "metadata": {
  "kernelspec": {
   "display_name": "Python 3",
   "language": "python",
   "name": "python3"
  },
  "language_info": {
   "codemirror_mode": {
    "name": "ipython",
    "version": 3
   },
   "file_extension": ".py",
   "mimetype": "text/x-python",
   "name": "python",
   "nbconvert_exporter": "python",
   "pygments_lexer": "ipython3",
   "version": "3.7.3"
  }
 },
 "nbformat": 4,
 "nbformat_minor": 4
}
