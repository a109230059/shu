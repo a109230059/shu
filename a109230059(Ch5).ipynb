{
 "cells": [
  {
   "cell_type": "code",
   "execution_count": 5,
   "metadata": {},
   "outputs": [
    {
     "name": "stdout",
     "output_type": "stream",
     "text": [
      "請輸入購物金額50000\n",
      "47500.0\n"
     ]
    }
   ],
   "source": [
    "expense=eval(input('請輸入購物金額'))\n",
    "exp=expense\n",
    "if exp >=5000:\n",
    "    print(exp*0.95)\n",
    "elif exp >=15000:\n",
    "    print(exp*0.9)\n",
    "elif exp >=25000:\n",
    "    print(exp*0.85)\n",
    "elif exp >=35000:\n",
    "    print(exp*0.8)"
   ]
  },
  {
   "cell_type": "code",
   "execution_count": 23,
   "metadata": {},
   "outputs": [
    {
     "name": "stdout",
     "output_type": "stream",
     "text": [
      "請輸入月份4\n",
      "夏天\n"
     ]
    }
   ],
   "source": [
    "month=eval(input('請輸入月份'))\n",
    "if month <3:\n",
    "    print('春天')\n",
    "elif month <=6:\n",
    "    print('夏天')\n",
    "elif month <=9:\n",
    "    print('秋天')\n",
    "elif month <=12:\n",
    "    print('冬天')"
   ]
  },
  {
   "cell_type": "code",
   "execution_count": 38,
   "metadata": {},
   "outputs": [
    {
     "name": "stdout",
     "output_type": "stream",
     "text": [
      "請輸入年齡18\n",
      "您的票價為:890\n"
     ]
    }
   ],
   "source": [
    "age=eval(input('請輸入年齡'))\n",
    "if age <=5:\n",
    "    print('您的票價為:免費')\n",
    "elif age <=11:\n",
    "    print('您的票價為:590')\n",
    "elif age <=17:\n",
    "    print('您的票價為:790')\n",
    "elif age <=59:\n",
    "    print('您的票價為:890')\n",
    "elif age >=60:\n",
    "    print('您的票價為:399')"
   ]
  },
  {
   "cell_type": "code",
   "execution_count": 1,
   "metadata": {
    "scrolled": true
   },
   "outputs": [
    {
     "name": "stdout",
     "output_type": "stream",
     "text": [
      "請輸入整數20\n",
      "此數為5的倍數\n"
     ]
    }
   ],
   "source": [
    "number=eval(input('請輸入整數'))\n",
    "if (number%3)==0 and (number%5)==0:\n",
    "    print('此數為3和5的倍數')\n",
    "elif (number%3)==0:\n",
    "    print('此數為3的倍數')\n",
    "elif (number%5)==0:\n",
    "    print('此數為5的倍數')"
   ]
  },
  {
   "cell_type": "code",
   "execution_count": null,
   "metadata": {},
   "outputs": [],
   "source": []
  },
  {
   "cell_type": "code",
   "execution_count": 6,
   "metadata": {},
   "outputs": [
    {
     "data": {
      "text/plain": [
       "65"
      ]
     },
     "execution_count": 6,
     "metadata": {},
     "output_type": "execute_result"
    }
   ],
   "source": [
    "ord('A')"
   ]
  },
  {
   "cell_type": "code",
   "execution_count": 8,
   "metadata": {},
   "outputs": [
    {
     "data": {
      "text/plain": [
       "90"
      ]
     },
     "execution_count": 8,
     "metadata": {},
     "output_type": "execute_result"
    }
   ],
   "source": [
    "ord('Z')"
   ]
  },
  {
   "cell_type": "code",
   "execution_count": 9,
   "metadata": {},
   "outputs": [
    {
     "data": {
      "text/plain": [
       "97"
      ]
     },
     "execution_count": 9,
     "metadata": {},
     "output_type": "execute_result"
    }
   ],
   "source": [
    "ord('a')"
   ]
  },
  {
   "cell_type": "code",
   "execution_count": 10,
   "metadata": {},
   "outputs": [
    {
     "data": {
      "text/plain": [
       "122"
      ]
     },
     "execution_count": 10,
     "metadata": {},
     "output_type": "execute_result"
    }
   ],
   "source": [
    "ord('z')"
   ]
  },
  {
   "cell_type": "code",
   "execution_count": 12,
   "metadata": {},
   "outputs": [
    {
     "data": {
      "text/plain": [
       "48"
      ]
     },
     "execution_count": 12,
     "metadata": {},
     "output_type": "execute_result"
    }
   ],
   "source": [
    "ord('0')"
   ]
  },
  {
   "cell_type": "code",
   "execution_count": 13,
   "metadata": {},
   "outputs": [
    {
     "data": {
      "text/plain": [
       "'/'"
      ]
     },
     "execution_count": 13,
     "metadata": {},
     "output_type": "execute_result"
    }
   ],
   "source": [
    "chr(47)"
   ]
  },
  {
   "cell_type": "code",
   "execution_count": 14,
   "metadata": {},
   "outputs": [],
   "source": [
    "Character = 'A'"
   ]
  },
  {
   "cell_type": "code",
   "execution_count": 15,
   "metadata": {},
   "outputs": [
    {
     "data": {
      "text/plain": [
       "True"
      ]
     },
     "execution_count": 15,
     "metadata": {},
     "output_type": "execute_result"
    }
   ],
   "source": [
    "(ord(Character)>=65 and ord(Character)<=90) or (ord(Character)>=97 and ord(Character)<=122)"
   ]
  },
  {
   "cell_type": "code",
   "execution_count": 16,
   "metadata": {},
   "outputs": [
    {
     "name": "stdout",
     "output_type": "stream",
     "text": [
      "請輸入字元5\n",
      "此字元為數字\n"
     ]
    }
   ],
   "source": [
    "Character=(input('請輸入字元'))\n",
    "if (ord(Character)>=65 and ord(Character)<=90) or (ord(Character)>=97 and ord(Character)<=122):\n",
    "    print('此字元為英文字母')\n",
    "elif (ord(Character)>=48 and ord(Character)<=57):\n",
    "    print('此字元為數字')\n",
    "elif (ord(Character)>=32 and ord(Character)<=47):\n",
    "    print('此字元為特殊字元')"
   ]
  },
  {
   "cell_type": "code",
   "execution_count": 17,
   "metadata": {},
   "outputs": [
    {
     "name": "stdout",
     "output_type": "stream",
     "text": [
      "請輸入綜合所得淨額5000\n",
      "250.0\n"
     ]
    }
   ],
   "source": [
    "money=eval(input('請輸入綜合所得淨額'))\n",
    "if money <=540000:\n",
    "    print(money*0.05)\n",
    "elif money <=1210000:\n",
    "    print(money*0.12-37800)\n",
    "elif money <=2420000:\n",
    "    print(money*0.2-134600)\n",
    "elif money <=4530000:\n",
    "    print(money*0.3-376600)\n",
    "elif money <=10310000:\n",
    "    print(money*0.4-829600)\n",
    "elif money >=10310001:\n",
    "    print(money*0.45-1345100)"
   ]
  },
  {
   "cell_type": "code",
   "execution_count": 2,
   "metadata": {},
   "outputs": [
    {
     "name": "stdout",
     "output_type": "stream",
     "text": [
      "請輸入X1座標:4\n",
      "請輸入y1座標:5\n",
      "請輸入X2座標:9\n",
      "請輸入y2座標:9\n",
      "此座標在圓內\n"
     ]
    }
   ],
   "source": [
    "x1=eval(input('請輸入X1座標:'))\n",
    "y1=eval(input('請輸入y1座標:'))\n",
    "x2=eval(input('請輸入X2座標:'))\n",
    "y2=eval(input('請輸入y2座標:'))\n",
    "distance=((x1-x2)**2+(y1-y2)**2)**(1/2)\n",
    "if distance <=10:\n",
    "    print('此座標在圓內')\n",
    "elif distance >10:\n",
    "    print('此座標在圓外')"
   ]
  },
  {
   "cell_type": "code",
   "execution_count": 3,
   "metadata": {},
   "outputs": [
    {
     "name": "stdout",
     "output_type": "stream",
     "text": [
      "請輸入千位數1\n",
      "請輸入百位數2\n",
      "請輸入十位數2\n",
      "請輸入個位數1\n",
      "此數為迴文數字\n"
     ]
    }
   ],
   "source": [
    "a=eval(input('請輸入千位數'))\n",
    "b=eval(input('請輸入百位數'))\n",
    "c=eval(input('請輸入十位數'))\n",
    "d=eval(input('請輸入個位數'))\n",
    "if a==d and b==c:\n",
    "    print('此數為迴文數字')\n",
    "else:\n",
    "    print('此數非迴文數字')"
   ]
  },
  {
   "cell_type": "code",
   "execution_count": 18,
   "metadata": {},
   "outputs": [
    {
     "name": "stdout",
     "output_type": "stream",
     "text": [
      "請輸入三角形三邊長5\n",
      "請輸入三角形三邊長6\n",
      "請輸入三角形三邊長19\n",
      "此三邊長無法構成三角形\n"
     ]
    }
   ],
   "source": [
    "s1=eval(input('請輸入三角形三邊長'))\n",
    "s2=eval(input('請輸入三角形三邊長'))\n",
    "s3=eval(input('請輸入三角形三邊長'))\n",
    "s=(s1+s2+s3)/2\n",
    "area=(s*(s-s1)*(s-s2)*(s-s3))**(1/2)\n",
    "if s1+s2>s3 and s1+s3>s2 and s2+s3>s1:\n",
    "    print(area)\n",
    "elif s1+s2<s3 or s1+s3<s2 or s2+s3<s1:\n",
    "    print('此三邊長無法構成三角形')"
   ]
  },
  {
   "cell_type": "code",
   "execution_count": 20,
   "metadata": {},
   "outputs": [
    {
     "name": "stdout",
     "output_type": "stream",
     "text": [
      "請輸入三角形三邊長5\n",
      "請輸入三角形三邊長6\n",
      "請輸入三角形三邊長41\n",
      "此三邊長無法構成三角形\n"
     ]
    }
   ],
   "source": [
    "s1=eval(input('請輸入三角形三邊長'))\n",
    "s2=eval(input('請輸入三角形三邊長'))\n",
    "s3=eval(input('請輸入三角形三邊長'))\n",
    "s=(s1+s2+s3)/2\n",
    "area=(s*(s-s1)*(s-s2)*(s-s3))**(1/2)\n",
    "\n",
    "if s1+s2<s3 or s1+s3<s2 or s2+s3<s1:\n",
    "    print('此三邊長無法構成三角形')\n",
    "else:# s1+s2>s3 and s1+s3>s2 and s2+s3>s1:\n",
    "    print(area)"
   ]
  },
  {
   "cell_type": "code",
   "execution_count": 19,
   "metadata": {},
   "outputs": [],
   "source": [
    "#print('hee')"
   ]
  },
  {
   "cell_type": "code",
   "execution_count": 22,
   "metadata": {},
   "outputs": [
    {
     "name": "stdout",
     "output_type": "stream",
     "text": [
      "is your brithday in set1?\n",
      "1 3 5 7\n",
      "9 11 13 15\n",
      "17 19 21 23\n",
      "25 27 29 31\n",
      "\n",
      "Enter1 for yes and 0 for no:1\n",
      "is your brithday in set2?\n",
      "2 3 6 7\n",
      "10 11 14 15\n",
      "18 19 22 23\n",
      "26 27 30 31\n",
      "\n",
      "Enter1 for yes and 0 for no:1\n",
      "is your brithday in set3?\n",
      "4 5 6 7\n",
      "12 13 14 15\n",
      "20 21 22 23\n",
      "28 29 30 31\n",
      "\n",
      "Enter1 for yes and 0 for no:1\n",
      "is your brithday in set1?\n",
      "8 9 10 11\n",
      "12 13 14 15\n",
      "24 25 26 27\n",
      "28 29 30 31\n",
      "\n",
      "Enter1 for yes and 0 for no:1\n",
      "is your brithday in set1?\n",
      "16 17 18 19\n",
      "20 21 22 23\n",
      "24 25 26 27\n",
      "28 29 30 31\n",
      "\n",
      "Enter1 for yea and 0 for no:1\n",
      "your brithday is 31\n"
     ]
    }
   ],
   "source": [
    "day=0\n",
    "Q1=\"is your brithday in set1?\\n\"+\\\n",
    "   \"1 3 5 7\\n\"+\\\n",
    "   \"9 11 13 15\\n\"+\\\n",
    "   \"17 19 21 23\\n\"+\\\n",
    "   \"25 27 29 31\\n\"+\\\n",
    "   \"\\nEnter1 for yes and 0 for no:\"\n",
    "ans=eval(input(Q1))\n",
    "if ans==1:\n",
    "\n",
    "    day +=1\n",
    "    \n",
    "Q2=\"is your brithday in set2?\\n\"+\\\n",
    "   \"2 3 6 7\\n\"+\\\n",
    "   \"10 11 14 15\\n\"+\\\n",
    "   \"18 19 22 23\\n\"+\\\n",
    "   \"26 27 30 31\\n\"+\\\n",
    "   \"\\nEnter1 for yes and 0 for no:\"\n",
    "ans=eval(input(Q2))\n",
    "\n",
    "if ans==1:\n",
    "    day+=2\n",
    "    \n",
    "Q3=\"is your brithday in set3?\\n\"+\\\n",
    "   \"4 5 6 7\\n\"+\\\n",
    "   \"12 13 14 15\\n\"+\\\n",
    "   \"20 21 22 23\\n\"+\\\n",
    "   \"28 29 30 31\\n\"+\\\n",
    "   \"\\nEnter1 for yes and 0 for no:\"\n",
    "ans=eval(input(Q3))\n",
    "\n",
    "if ans==1:\n",
    "    day+=4\n",
    "    \n",
    "Q4=\"is your brithday in set1?\\n\"+\\\n",
    "   \"8 9 10 11\\n\"+\\\n",
    "   \"12 13 14 15\\n\"+\\\n",
    "   \"24 25 26 27\\n\"+\\\n",
    "   \"28 29 30 31\\n\"+\\\n",
    "   \"\\nEnter1 for yes and 0 for no:\"\n",
    "ans=eval(input(Q4))\n",
    "\n",
    "if ans==1:\n",
    "    day+=8\n",
    "    \n",
    "Q5=\"is your brithday in set1?\\n\"+\\\n",
    "   \"16 17 18 19\\n\"+\\\n",
    "   \"20 21 22 23\\n\"+\\\n",
    "   \"24 25 26 27\\n\"+\\\n",
    "   \"28 29 30 31\\n\"+\\\n",
    "   \"\\nEnter1 for yea and 0 for no:\"\n",
    "ans=eval(input(Q5))\n",
    "\n",
    "if ans==1:\n",
    "    day+=16\n",
    "    \n",
    "print(\"your brithday is\",day)"
   ]
  },
  {
   "cell_type": "code",
   "execution_count": 23,
   "metadata": {},
   "outputs": [
    {
     "name": "stdout",
     "output_type": "stream",
     "text": [
      "1\n",
      "2\n",
      "3\n",
      "4\n",
      "5\n"
     ]
    }
   ],
   "source": [
    "i =0\n",
    "while True:\n",
    "    i += 1\n",
    "    if i >5:\n",
    "        break\n",
    "    print(i)"
   ]
  },
  {
   "cell_type": "code",
   "execution_count": null,
   "metadata": {},
   "outputs": [],
   "source": []
  }
 ],
 "metadata": {
  "kernelspec": {
   "display_name": "Python 3",
   "language": "python",
   "name": "python3"
  },
  "language_info": {
   "codemirror_mode": {
    "name": "ipython",
    "version": 3
   },
   "file_extension": ".py",
   "mimetype": "text/x-python",
   "name": "python",
   "nbconvert_exporter": "python",
   "pygments_lexer": "ipython3",
   "version": "3.7.3"
  }
 },
 "nbformat": 4,
 "nbformat_minor": 4
}
