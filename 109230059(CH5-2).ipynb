{
 "cells": [
  {
   "cell_type": "code",
   "execution_count": 8,
   "metadata": {},
   "outputs": [
    {
     "name": "stdout",
     "output_type": "stream",
     "text": [
      "請輸入整數30\n",
      "此數為3和5的倍數\n"
     ]
    }
   ],
   "source": [
    "number=eval(input('請輸入整數'))\n",
    "if (number%3)==0 and (number%5)==0:\n",
    "    print('此數為3和5的倍數')\n",
    "elif (number%3)==0:\n",
    "    print('此數為3的倍數')\n",
    "elif (number%5)==0:\n",
    "    print('此數為5的倍數')"
   ]
  },
  {
   "cell_type": "code",
   "execution_count": 26,
   "metadata": {},
   "outputs": [
    {
     "name": "stdout",
     "output_type": "stream",
     "text": [
      "請輸入字元4\n"
     ]
    }
   ],
   "source": [
    "Character=eval(input('請輸入字元'))\n",
    "if Character=='a':\n",
    "    print('此字元為英文字母')\n",
    "elif Character=='4':\n",
    "    print('此字元為數字')\n",
    "elif Character=='$':\n",
    "    print('此字元為特殊字元')"
   ]
  },
  {
   "cell_type": "code",
   "execution_count": 32,
   "metadata": {},
   "outputs": [
    {
     "name": "stdout",
     "output_type": "stream",
     "text": [
      "請輸入綜合所得淨額4000\n",
      "200.0\n"
     ]
    }
   ],
   "source": [
    "money=eval(input('請輸入綜合所得淨額'))\n",
    "if money <=540000:\n",
    "    print(money*0.05)\n",
    "elif money <=1210000:\n",
    "    print(money*0.12-37800)\n",
    "elif money <=2420000:\n",
    "    print(money*0.2-134600)\n",
    "elif money <=4530000:\n",
    "    print(money*0.3-376600)\n",
    "elif money <=10310000:\n",
    "    print(money*0.4-829600)\n",
    "elif money >=10310001:\n",
    "    print(money*0.45-1345100)"
   ]
  },
  {
   "cell_type": "code",
   "execution_count": 3,
   "metadata": {},
   "outputs": [
    {
     "name": "stdout",
     "output_type": "stream",
     "text": [
      "請輸入X1座標:4\n",
      "請輸入y1座標:5\n",
      "請輸入X2座標:9\n",
      "請輸入y2座標:9\n",
      "此座標在圓內\n"
     ]
    }
   ],
   "source": [
    "x1=eval(input('請輸入X1座標:'))\n",
    "y1=eval(input('請輸入y1座標:'))\n",
    "x2=eval(input('請輸入X2座標:'))\n",
    "y2=eval(input('請輸入y2座標:'))\n",
    "distance=((x1-x2)**2+(y1-y2)**2)**(1/2)\n",
    "if distance <=10:\n",
    "    print('此座標在圓內')\n",
    "elif distance >10:\n",
    "    print('此座標在圓外')"
   ]
  },
  {
   "cell_type": "code",
   "execution_count": 11,
   "metadata": {},
   "outputs": [
    {
     "name": "stdout",
     "output_type": "stream",
     "text": [
      "請輸入千位數1\n",
      "請輸入百位數2\n",
      "請輸入十位數3\n",
      "請輸入個位數4\n",
      "此數非迴文數字\n"
     ]
    }
   ],
   "source": [
    "a=eval(input('請輸入千位數'))\n",
    "b=eval(input('請輸入百位數'))\n",
    "c=eval(input('請輸入十位數'))\n",
    "d=eval(input('請輸入個位數'))\n",
    "if a==d and b==c:\n",
    "    print('此數為迴文數字')\n",
    "else:\n",
    "    print('此數非迴文數字')"
   ]
  },
  {
   "cell_type": "code",
   "execution_count": 18,
   "metadata": {},
   "outputs": [
    {
     "name": "stdout",
     "output_type": "stream",
     "text": [
      "請輸入三角形三邊長5\n",
      "請輸入三角形三邊長5\n",
      "請輸入三角形三邊長60\n",
      "(5.433831127404984e-14+887.4119674649424j)\n"
     ]
    }
   ],
   "source": [
    "s1=eval(input('請輸入三角形三邊長'))\n",
    "s2=eval(input('請輸入三角形三邊長'))\n",
    "s3=eval(input('請輸入三角形三邊長'))\n",
    "s=(s1+s2+s3)/2\n",
    "area=(s*(s-s1)*(s-s2)*(s-s3))**(1/2)\n",
    "if s1+s2>s3 or s1+s3>s2 or s2+s3>s1:\n",
    "    print(area)\n",
    "elif s1+s2<s3 and s1+s3<s2 and s2+s3<s1:\n",
    "    print('此三邊長無法構成三角形')"
   ]
  },
  {
   "cell_type": "code",
   "execution_count": null,
   "metadata": {},
   "outputs": [],
   "source": [
    "day=0\n",
    "Q1=\"is your brithday in set1?\\n\"+\\\n",
    "   \"1 3 5 7\\n\"+\\\n",
    "   \"9 11 13 15\\n\"+\\\n",
    "   \"17 19 21 23\\n\"+\\\n",
    "   \"25 27 29 31\\n\"+\\\n",
    "   \"\\nEnter1 for yea and 0 for no:\"\n",
    "ans=eval(input('Q1'))\n",
    "if ans==1\n",
    "   day +=1\n",
    "    \n",
    "Q2=\"is your brithday in set2?\\n\"+\\\n",
    "   \"2 3 6 7\\n\"+\\\n",
    "   \"10 11 14 15\\n\"+\\\n",
    "   \"18 19 22 23\\n\"+\\\n",
    "   \"26 27 30 31\\n\"+\\\n",
    "   \"\\nEnter1 for yea and 0 for no:\"\n",
    "ans=eval(input('Q2'))\n",
    "\n",
    "if ans==1:\n",
    "    day+=2\n",
    "    \n",
    "Q3=\"is your brithday in set3?\\n\"+\\\n",
    "   \"4 5 6 7\\n\"+\\\n",
    "   \"12 13 14 15\\n\"+\\\n",
    "   \"20 21 22 23\\n\"+\\\n",
    "   \"28 29 30 31\\n\"+\\\n",
    "   \"\\nEnter1 for yea and 0 for no:\"\n",
    "ans=eval(input('Q3'))\n",
    "\n",
    "if ans==1:\n",
    "    day+=4\n",
    "    \n",
    "Q4=\"is your brithday in set1?\\n\"+\\\n",
    "   \"8 9 10 11\\n\"+\\\n",
    "   \"12 13 14 15\\n\"+\\\n",
    "   \"24 25 26 27\\n\"+\\\n",
    "   \"28 29 30 31\\n\"+\\\n",
    "   \"\\nEnter1 for yea and 0 for no:\"\n",
    "ans=eval(input('Q4'))\n",
    "\n",
    "if ans==1:\n",
    "    day+=8\n",
    "    \n",
    "Q5=\"is your brithday in set1?\\n\"+\\\n",
    "   \"16 17 18 19\\n\"+\\\n",
    "   \"20 21 22 23\\n\"+\\\n",
    "   \"24 25 26 27\\n\"+\\\n",
    "   \"28 29 30 31\\n\"+\\\n",
    "   \"\\nEnter1 for yea and 0 for no:\"\n",
    "ans=eval(input('Q5'))\n",
    "\n",
    "if ans==1:\n",
    "    day+=16\n",
    "    \n",
    "print(\"your brithday is\",day)"
   ]
  }
 ],
 "metadata": {
  "kernelspec": {
   "display_name": "Python 3",
   "language": "python",
   "name": "python3"
  }
 },
 "nbformat": 4,
 "nbformat_minor": 4
}
