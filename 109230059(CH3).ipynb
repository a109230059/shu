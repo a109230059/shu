{
 "cells": [
  {
   "cell_type": "code",
   "execution_count": 1,
   "metadata": {},
   "outputs": [
    {
     "name": "stdout",
     "output_type": "stream",
     "text": [
      "半徑5\n",
      "78.5\n",
      "31.400000000000002\n"
     ]
    }
   ],
   "source": [
    "r=eval(input('半徑'))\n",
    "area=r**2*(3.14)\n",
    "perimeter=2*r*3.14\n",
    "print(area)\n",
    "print(perimeter)"
   ]
  },
  {
   "cell_type": "code",
   "execution_count": 3,
   "metadata": {},
   "outputs": [
    {
     "name": "stdout",
     "output_type": "stream",
     "text": [
      "矩形的長5\n",
      "矩形的寬10\n",
      "50\n",
      "30\n"
     ]
    }
   ],
   "source": [
    "long=eval(input('矩形的長'))\n",
    "width=eval(input('矩形的寬'))\n",
    "area=long*width\n",
    "perimeter=2*(long+width)\n",
    "print(area)\n",
    "print(perimeter)"
   ]
  },
  {
   "cell_type": "code",
   "execution_count": 6,
   "metadata": {},
   "outputs": [
    {
     "name": "stdout",
     "output_type": "stream",
     "text": [
      "輸入x10\n",
      "輸入y20\n",
      "-504.25\n"
     ]
    }
   ],
   "source": [
    "x=eval(input('輸入x'))\n",
    "y=eval(input('輸入y'))\n",
    "print((3+4*x)/5-((10*(y-5)*(x+y+5)))/x+((4/x)+(9+x)/y)*9)"
   ]
  },
  {
   "cell_type": "code",
   "execution_count": 7,
   "metadata": {},
   "outputs": [
    {
     "name": "stdout",
     "output_type": "stream",
     "text": [
      "輸入a1\n",
      "輸入b2\n",
      "輸入c3\n",
      "-61.24761904761905\n"
     ]
    }
   ],
   "source": [
    "a=eval(input('輸入a'))\n",
    "b=eval(input('輸入b'))\n",
    "c=eval(input('輸入c'))\n",
    "print((4/(3*(a+34))-9*(a+b*c)+(3+3*(2+a))/(a+3*b)))"
   ]
  },
  {
   "cell_type": "code",
   "execution_count": 8,
   "metadata": {},
   "outputs": [],
   "source": [
    "import os"
   ]
  },
  {
   "cell_type": "code",
   "execution_count": 11,
   "metadata": {},
   "outputs": [
    {
     "data": {
      "text/plain": [
       "'C:\\\\Users\\\\USER\\\\Documents'"
      ]
     },
     "execution_count": 11,
     "metadata": {},
     "output_type": "execute_result"
    }
   ],
   "source": [
    "os.getcwd()"
   ]
  },
  {
   "cell_type": "code",
   "execution_count": null,
   "metadata": {},
   "outputs": [],
   "source": []
  }
 ],
 "metadata": {
  "kernelspec": {
   "display_name": "Python 3",
   "language": "python",
   "name": "python3"
  },
  "language_info": {
   "codemirror_mode": {
    "name": "ipython",
    "version": 3
   },
   "file_extension": ".py",
   "mimetype": "text/x-python",
   "name": "python",
   "nbconvert_exporter": "python",
   "pygments_lexer": "ipython3",
   "version": "3.8.3"
  }
 },
 "nbformat": 4,
 "nbformat_minor": 4
}
