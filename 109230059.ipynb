{
 "cells": [
  {
   "cell_type": "code",
   "execution_count": 7,
   "metadata": {},
   "outputs": [
    {
     "name": "stdout",
     "output_type": "stream",
     "text": [
      "height23.5\n",
      "weight19\n",
      "85.0\n",
      "446.5\n"
     ]
    }
   ],
   "source": [
    "height=eval(input('height'))\n",
    "weight=eval(input('weight'))\n",
    "perimeter=2*(height+weight)\n",
    "area=height*weight\n",
    "print(perimeter)\n",
    "print(area)"
   ]
  },
  {
   "cell_type": "code",
   "execution_count": 4,
   "metadata": {},
   "outputs": [
    {
     "name": "stdout",
     "output_type": "stream",
     "text": [
      "正三角形邊長 S1\n",
      "0.8660254037844386\n",
      "0.4330127018922193\n"
     ]
    }
   ],
   "source": [
    "s=eval(input('正三角形邊長 S'))\n",
    "height=(3**0.5)/2*s\n",
    "area=(3**0.5)*s**2/4\n",
    "print(height)\n",
    "print(area)"
   ]
  },
  {
   "cell_type": "code",
   "execution_count": 1,
   "metadata": {},
   "outputs": [
    {
     "name": "stdout",
     "output_type": "stream",
     "text": [
      "x(min)10\n",
      "y(sec)25\n",
      "z(km)3\n",
      "10.8\n"
     ]
    }
   ],
   "source": [
    "x=eval(input('x(min)'))\n",
    "y=eval(input('y(sec)'))\n",
    "z=eval(input('z(km)'))\n",
    "speed=(z/1.6)/((60*x+y)/3600)\n",
    "print(speed)"
   ]
  },
  {
   "cell_type": "code",
   "execution_count": 5,
   "metadata": {},
   "outputs": [
    {
     "name": "stdout",
     "output_type": "stream",
     "text": [
      "mile1\n",
      "1.6\n"
     ]
    }
   ],
   "source": [
    "mile=eval(input('mile'))\n",
    "km=mile*1.6\n",
    "print(km)"
   ]
  },
  {
   "cell_type": "code",
   "execution_count": 6,
   "metadata": {},
   "outputs": [
    {
     "name": "stdout",
     "output_type": "stream",
     "text": [
      "F32\n",
      "0.0\n"
     ]
    }
   ],
   "source": [
    "F=eval(input('F'))\n",
    "C=(F-32)*5/9\n",
    "print(C)"
   ]
  },
  {
   "cell_type": "code",
   "execution_count": 1,
   "metadata": {},
   "outputs": [
    {
     "name": "stdout",
     "output_type": "stream",
     "text": [
      "x100\n",
      "y200\n",
      "z300\n",
      "600\n",
      "200.0\n"
     ]
    }
   ],
   "source": [
    "x=eval(input('x'))\n",
    "y=eval(input('y'))\n",
    "z=eval(input('z'))\n",
    "all=x+y+z\n",
    "average=(x+y+z)/3\n",
    "print(all)\n",
    "print(average)"
   ]
  },
  {
   "cell_type": "code",
   "execution_count": 4,
   "metadata": {},
   "outputs": [
    {
     "name": "stdout",
     "output_type": "stream",
     "text": [
      "姓名小林\n",
      "學號109\n",
      "地址天國\n",
      "小林\n",
      "109\n",
      "天國\n"
     ]
    }
   ],
   "source": [
    "name=(input('姓名'))\n",
    "number=eval(input('學號'))\n",
    "add=(input('地址'))\n",
    "print(name)\n",
    "print(number)\n",
    "print(add)"
   ]
  },
  {
   "cell_type": "code",
   "execution_count": 5,
   "metadata": {},
   "outputs": [
    {
     "name": "stdout",
     "output_type": "stream",
     "text": [
      "1\n"
     ]
    }
   ],
   "source": [
    "r=eval(input(''))\n"
   ]
  },
  {
   "cell_type": "code",
   "execution_count": 6,
   "metadata": {},
   "outputs": [],
   "source": [
    "import os\n"
   ]
  },
  {
   "cell_type": "code",
   "execution_count": 7,
   "metadata": {},
   "outputs": [
    {
     "data": {
      "text/plain": [
       "'C:\\\\Users\\\\a109230059\\\\Documents'"
      ]
     },
     "execution_count": 7,
     "metadata": {},
     "output_type": "execute_result"
    }
   ],
   "source": [
    "os.getcwd()"
   ]
  },
  {
   "cell_type": "code",
   "execution_count": null,
   "metadata": {},
   "outputs": [],
   "source": []
  }
 ],
 "metadata": {
  "kernelspec": {
   "display_name": "Python 3",
   "language": "python",
   "name": "python3"
  },
  "language_info": {
   "codemirror_mode": {
    "name": "ipython",
    "version": 3
   },
   "file_extension": ".py",
   "mimetype": "text/x-python",
   "name": "python",
   "nbconvert_exporter": "python",
   "pygments_lexer": "ipython3",
   "version": "3.7.3"
  }
 },
 "nbformat": 4,
 "nbformat_minor": 2
}
