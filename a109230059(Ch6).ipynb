{
 "cells": [
  {
   "cell_type": "code",
   "execution_count": 1,
   "metadata": {},
   "outputs": [
    {
     "name": "stdout",
     "output_type": "stream",
     "text": [
      "請輸入n5\n",
      "1 / 3 = 0.3333333333333333\n",
      "3 / 5 = 0.9333333333333333\n",
      "1+1/2+1/3+...+1/n= 0.9333333333333333\n"
     ]
    }
   ],
   "source": [
    "n=eval(input('請輸入n'))\n",
    "total=0\n",
    "for k in range(1,n, 2):\n",
    "    total+=k/(k+2)\n",
    "    print(k, '/', (k+2),'=', total)\n",
    "print('1+1/2+1/3+...+1/n=',total)"
   ]
  },
  {
   "cell_type": "code",
   "execution_count": 1,
   "metadata": {},
   "outputs": [
    {
     "name": "stdout",
     "output_type": "stream",
     "text": [
      "請輸入有幾位員工5\n",
      "請輸入銷售金額5000\n",
      "6100.0\n"
     ]
    }
   ],
   "source": [
    "k=eval(input('請輸入有幾位員工'))\n",
    "money=eval(input('請輸入銷售金額'))\n",
    "m=money\n",
    "if m<=5000:\n",
    "    print((m*0.1)/k+6000)\n",
    "elif m<=10000:\n",
    "    print((m*0.12)/k+6000)\n",
    "elif m<=15000:\n",
    "    print((m*0.14)/k+6000)\n",
    "elif m>=15000:\n",
    "    print((m*0.16)/k+6000)"
   ]
  },
  {
   "cell_type": "code",
   "execution_count": 2,
   "metadata": {},
   "outputs": [
    {
     "name": "stdout",
     "output_type": "stream",
     "text": [
      "請輸入n5\n",
      "1.0\n",
      "1.5\n",
      "1.8333333333333333\n",
      "2.083333333333333\n",
      "1+1/2+1/3+...+1/n= 2.083333333333333\n"
     ]
    }
   ],
   "source": [
    "n=eval(input('請輸入n'))\n",
    "total=0\n",
    "for k in range(1,n):\n",
    "    total+=1/k\n",
    "    print(total)\n",
    "print('1+1/2+1/3+...+1/n=',total)"
   ]
  },
  {
   "cell_type": "code",
   "execution_count": 3,
   "metadata": {},
   "outputs": [
    {
     "name": "stdout",
     "output_type": "stream",
     "text": [
      "the number is 7099.1602209792\n",
      "total is,total\n"
     ]
    }
   ],
   "source": [
    "total=52800\n",
    "number=0\n",
    "while True:\n",
    "    number+=total*0.02\n",
    "    total+=number\n",
    "    if total>=70000:\n",
    "        break\n",
    "print('the number is',number)\n",
    "print('total is,total')"
   ]
  }
 ],
 "metadata": {
  "kernelspec": {
   "display_name": "Python 3",
   "language": "python",
   "name": "python3"
  },
  "language_info": {
   "codemirror_mode": {
    "name": "ipython",
    "version": 3
   },
   "file_extension": ".py",
   "mimetype": "text/x-python",
   "name": "python",
   "nbconvert_exporter": "python",
   "pygments_lexer": "ipython3",
   "version": "3.7.3"
  }
 },
 "nbformat": 4,
 "nbformat_minor": 4
}
