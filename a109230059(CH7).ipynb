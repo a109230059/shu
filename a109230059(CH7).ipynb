{
 "cells": [
  {
   "cell_type": "code",
   "execution_count": 1,
   "metadata": {},
   "outputs": [
    {
     "name": "stdout",
     "output_type": "stream",
     "text": [
      "********************\n",
      "python\n",
      "********************"
     ]
    }
   ],
   "source": [
    "for i in range(20):\n",
    "    print(\"*\",end='')    \n",
    "print('')\n",
    "print('python')\n",
    "for i in range(20):\n",
    "    print('*',end='')"
   ]
  },
  {
   "cell_type": "code",
   "execution_count": 2,
   "metadata": {},
   "outputs": [
    {
     "name": "stdout",
     "output_type": "stream",
     "text": [
      "********************\n",
      "********************\n",
      "********************"
     ]
    }
   ],
   "source": [
    "for i in range(20):\n",
    "    print(\"*\",end='')    \n",
    "print('')\n",
    "for i in range(20):\n",
    "    print(\"*\",end='') \n",
    "print('')\n",
    "for i in range(20):\n",
    "    print('*',end='')"
   ]
  },
  {
   "cell_type": "code",
   "execution_count": 3,
   "metadata": {},
   "outputs": [],
   "source": [
    "def printS():\n",
    "    for i in range(20):\n",
    "        print('*',end='')"
   ]
  },
  {
   "cell_type": "code",
   "execution_count": 5,
   "metadata": {},
   "outputs": [
    {
     "name": "stdout",
     "output_type": "stream",
     "text": [
      "********************\n",
      "python\n",
      "\n",
      "********************"
     ]
    }
   ],
   "source": [
    "printS()\n",
    "print(\"\")\n",
    "print(\"python\")\n",
    "print(\"\")\n",
    "printS()"
   ]
  },
  {
   "cell_type": "code",
   "execution_count": null,
   "metadata": {},
   "outputs": [],
   "source": []
  }
 ],
 "metadata": {
  "kernelspec": {
   "display_name": "Python 3",
   "language": "python",
   "name": "python3"
  },
  "language_info": {
   "codemirror_mode": {
    "name": "ipython",
    "version": 3
   },
   "file_extension": ".py",
   "mimetype": "text/x-python",
   "name": "python",
   "nbconvert_exporter": "python",
   "pygments_lexer": "ipython3",
   "version": "3.7.3"
  }
 },
 "nbformat": 4,
 "nbformat_minor": 2
}
