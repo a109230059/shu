{
 "cells": [
  {
   "cell_type": "code",
   "execution_count": 7,
   "metadata": {},
   "outputs": [
    {
     "name": "stdout",
     "output_type": "stream",
     "text": [
      "height23.5\n",
      "weight19\n",
      "85.0\n",
      "446.5\n"
     ]
    }
   ],
   "source": [
    "height=eval(input('height'))\n",
    "weight=eval(input('weight'))\n",
    "perimeter=2*(height+weight)\n",
    "area=height*weight\n",
    "print(perimeter)\n",
    "print(area)"
   ]
  },
  {
   "cell_type": "code",
   "execution_count": 4,
   "metadata": {},
   "outputs": [
    {
     "name": "stdout",
     "output_type": "stream",
     "text": [
      "正三角形邊長 S1\n",
      "0.8660254037844386\n",
      "0.4330127018922193\n"
     ]
    }
   ],
   "source": [
    "s=eval(input('正三角形邊長 S'))\n",
    "height=(3**0.5)/2*s\n",
    "area=(3**0.5)*s**2/4\n",
    "print(height)\n",
    "print(area)"
   ]
  },
  {
   "cell_type": "code",
   "execution_count": 1,
   "metadata": {},
   "outputs": [
    {
     "name": "stdout",
     "output_type": "stream",
     "text": [
      "x(min)10\n",
      "y(sec)25\n",
      "z(km)3\n",
      "10.8\n"
     ]
    }
   ],
   "source": [
    "x=eval(input('x(min)'))\n",
    "y=eval(input('y(sec)'))\n",
    "z=eval(input('z(km)'))\n",
    "speed=(z/1.6)/((60*x+y)/3600)\n",
    "print(speed)"
   ]
  },
  {
   "cell_type": "code",
   "execution_count": 5,
   "metadata": {},
   "outputs": [
    {
     "name": "stdout",
     "output_type": "stream",
     "text": [
      "mile1\n",
      "1.6\n"
     ]
    }
   ],
   "source": [
    "mile=eval(input('mile'))\n",
    "km=mile*1.6\n",
    "print(km)"
   ]
  },
  {
   "cell_type": "code",
   "execution_count": 6,
   "metadata": {},
   "outputs": [
    {
     "name": "stdout",
     "output_type": "stream",
     "text": [
      "F32\n",
      "0.0\n"
     ]
    }
   ],
   "source": [
    "F=eval(input('F'))\n",
    "C=(F-32)*5/9\n",
    "print(C)"
   ]
  },
  {
   "cell_type": "code",
   "execution_count": 1,
   "metadata": {},
   "outputs": [
    {
     "name": "stdout",
     "output_type": "stream",
     "text": [
      "x100\n",
      "y200\n",
      "z300\n",
      "600\n",
      "200.0\n"
     ]
    }
   ],
   "source": [
    "x=eval(input('x'))\n",
    "y=eval(input('y'))\n",
    "z=eval(input('z'))\n",
    "all=x+y+z\n",
    "average=(x+y+z)/3\n",
    "print(all)\n",
    "print(average)"
   ]
  },
  {
   "cell_type": "code",
   "execution_count": 4,
   "metadata": {},
   "outputs": [
    {
     "name": "stdout",
     "output_type": "stream",
     "text": [
      "姓名小林\n",
      "學號109\n",
      "地址天國\n",
      "小林\n",
      "109\n",
      "天國\n"
     ]
    }
   ],
   "source": [
    "name=(input('姓名'))\n",
    "number=eval(input('學號'))\n",
    "add=(input('地址'))\n",
    "print(name)\n",
    "print(number)\n",
    "print(add)"
   ]
  },
  {
   "cell_type": "code",
   "execution_count": 1,
   "metadata": {},
   "outputs": [
    {
     "name": "stdout",
     "output_type": "stream",
     "text": [
      "半徑5\n",
      "78.5\n",
      "31.400000000000002\n"
     ]
    }
   ],
   "source": [
    "r=eval(input('半徑'))\n",
    "area=r**2*(3.14)\n",
    "perimeter=2*r*3.14\n",
    "print(area)\n",
    "print(perimeter)\n"
   ]
  },
  {
   "cell_type": "code",
   "execution_count": 2,
   "metadata": {},
   "outputs": [
    {
     "name": "stdout",
     "output_type": "stream",
     "text": [
      "矩形的長5\n",
      "矩形的寬10\n",
      "50\n",
      "30\n"
     ]
    }
   ],
   "source": [
    "long=eval(input('矩形的長'))\n",
    "width=eval(input('矩形的寬'))\n",
    "area=long*width\n",
    "perimeter=2*(long+width)\n",
    "print(area)\n",
    "print(perimeter)"
   ]
  },
  {
   "cell_type": "code",
   "execution_count": 3,
   "metadata": {},
   "outputs": [
    {
     "name": "stdout",
     "output_type": "stream",
     "text": [
      "輸入x10\n",
      "輸入y20\n",
      "-504.25\n"
     ]
    }
   ],
   "source": [
    "x=eval(input('輸入x'))\n",
    "y=eval(input('輸入y'))\n",
    "print((3+4*x)/5-((10*(y-5)*(x+y+5)))/x+((4/x)+(9+x)/y)*9)"
   ]
  },
  {
   "cell_type": "code",
   "execution_count": 4,
   "metadata": {},
   "outputs": [
    {
     "name": "stdout",
     "output_type": "stream",
     "text": [
      "輸入a1\n",
      "輸入b2\n",
      "輸入c3\n",
      "-61.24761904761905\n"
     ]
    }
   ],
   "source": [
    "a=eval(input('輸入a'))\n",
    "b=eval(input('輸入b'))\n",
    "c=eval(input('輸入c'))\n",
    "print((4/(3*(a+34))-9*(a+b*c)+(3+3*(2+a))/(a+3*b)))"
   ]
  },
  {
   "cell_type": "code",
   "execution_count": null,
   "metadata": {},
   "outputs": [],
   "source": []
  }
 ],
 "metadata": {
  "kernelspec": {
   "display_name": "Python 3",
   "language": "python",
   "name": "python3"
  },
  "language_info": {
   "codemirror_mode": {
    "name": "ipython",
    "version": 3
   },
   "file_extension": ".py",
   "mimetype": "text/x-python",
   "name": "python",
   "nbconvert_exporter": "python",
   "pygments_lexer": "ipython3",
   "version": "3.7.3"
  }
 },
 "nbformat": 4,
 "nbformat_minor": 2
}
