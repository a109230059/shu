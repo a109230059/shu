{
 "cells": [
  {
   "cell_type": "code",
   "execution_count": 5,
   "metadata": {},
   "outputs": [
    {
     "name": "stdout",
     "output_type": "stream",
     "text": [
      "請輸入購物金額50000\n",
      "47500.0\n"
     ]
    }
   ],
   "source": [
    "expense=eval(input('請輸入購物金額'))\n",
    "exp=expense\n",
    "if exp >=5000:\n",
    "    print(exp*0.95)\n",
    "elif exp >=15000:\n",
    "    print(exp*0.9)\n",
    "elif exp >=25000:\n",
    "    print(exp*0.85)\n",
    "elif exp >=35000:\n",
    "    print(exp*0.8)"
   ]
  },
  {
   "cell_type": "code",
   "execution_count": 23,
   "metadata": {},
   "outputs": [
    {
     "name": "stdout",
     "output_type": "stream",
     "text": [
      "請輸入月份4\n",
      "夏天\n"
     ]
    }
   ],
   "source": [
    "month=eval(input('請輸入月份'))\n",
    "if month <3:\n",
    "    print('春天')\n",
    "elif month <=6:\n",
    "    print('夏天')\n",
    "elif month <=9:\n",
    "    print('秋天')\n",
    "elif month <=12:\n",
    "    print('冬天')"
   ]
  },
  {
   "cell_type": "code",
   "execution_count": 38,
   "metadata": {},
   "outputs": [
    {
     "name": "stdout",
     "output_type": "stream",
     "text": [
      "請輸入年齡18\n",
      "您的票價為:890\n"
     ]
    }
   ],
   "source": [
    "age=eval(input('請輸入年齡'))\n",
    "if age <=5:\n",
    "    print('您的票價為:免費')\n",
    "elif age <=11:\n",
    "    print('您的票價為:590')\n",
    "elif age <=17:\n",
    "    print('您的票價為:790')\n",
    "elif age <=59:\n",
    "    print('您的票價為:890')\n",
    "elif age >=60:\n",
    "    print('您的票價為:399')"
   ]
  },
  {
   "cell_type": "code",
   "execution_count": null,
   "metadata": {},
   "outputs": [],
   "source": []
  },
  {
   "cell_type": "code",
   "execution_count": null,
   "metadata": {},
   "outputs": [],
   "source": []
  },
  {
   "cell_type": "code",
   "execution_count": null,
   "metadata": {},
   "outputs": [],
   "source": []
  },
  {
   "cell_type": "code",
   "execution_count": null,
   "metadata": {},
   "outputs": [],
   "source": []
  }
 ],
 "metadata": {
  "kernelspec": {
   "display_name": "Python 3",
   "language": "python",
   "name": "python3"
  },
  "language_info": {
   "codemirror_mode": {
    "name": "ipython",
    "version": 3
   },
   "file_extension": ".py",
   "mimetype": "text/x-python",
   "name": "python",
   "nbconvert_exporter": "python",
   "pygments_lexer": "ipython3",
   "version": "3.8.3"
  }
 },
 "nbformat": 4,
 "nbformat_minor": 4
}
